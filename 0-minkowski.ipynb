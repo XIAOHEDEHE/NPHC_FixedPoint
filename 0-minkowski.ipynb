{
 "cells": [
  {
   "cell_type": "code",
   "execution_count": 1,
   "metadata": {},
   "outputs": [],
   "source": [
    "# Import packages\n",
    "import numpy as np\n",
    "import matplotlib.pyplot as plt"
   ]
  },
  {
   "attachments": {},
   "cell_type": "markdown",
   "metadata": {},
   "source": [
    "- Root Count\n",
    "\n",
    "Consider the example system in two unknowns and with 4 solutions."
   ]
  },
  {
   "cell_type": "code",
   "execution_count": 2,
   "metadata": {},
   "outputs": [],
   "source": [
    "# A function to calculate Minkowski sum between two arrays.\n",
    "# How to use:\n",
    "# There are two input of this function: sum1, sum2, and column. sum1,2 should both be the numpy\n",
    "# array, and we will output another numpy array as the result. Column is the col number of the matrix.\n",
    "def mink_sum(sum1, sum2, column):\n",
    "    result = np.array([[]])\n",
    "    for i in sum1:\n",
    "        for j in sum2:\n",
    "            result = np.append(result,i+j)\n",
    "    result = result.reshape([-1,column]).astype(int)\n",
    "    result = np.unique(result, axis=0) #Abandon duplicate elements\n",
    "    return result"
   ]
  },
  {
   "cell_type": "code",
   "execution_count": 14,
   "metadata": {},
   "outputs": [],
   "source": [
    "s_1 = np.array([[0,0],[1,0],[2,2]])\n",
    "s_2 = np.array([[0,0],[1,0],[0,1],[1,2]])\n",
    "sum = mink_sum(s_1,s_2,2)\n",
    "print(sum)"
   ]
  },
  {
   "cell_type": "code",
   "execution_count": null,
   "metadata": {},
   "outputs": [],
   "source": [
    "s1_hat = np.array([[0,0,0],[0,1,0],[2,2,0]])\n",
    "s2_hat = np.array([[0,0,0],[0,1,0],[2,2,0],[0,2,1],[0,1,1],[3,2,1],[3,4,3]])\n",
    "sum_hat = mink_sum(s1_hat,s2_hat,3)\n",
    "print(sum_hat)"
   ]
  }
 ],
 "metadata": {
  "kernelspec": {
   "display_name": "py39",
   "language": "python",
   "name": "python3"
  },
  "language_info": {
   "codemirror_mode": {
    "name": "ipython",
    "version": 3
   },
   "file_extension": ".py",
   "mimetype": "text/x-python",
   "name": "python",
   "nbconvert_exporter": "python",
   "pygments_lexer": "ipython3",
   "version": "3.9.0"
  },
  "orig_nbformat": 4,
  "vscode": {
   "interpreter": {
    "hash": "348dc4a427285fc17cb1ee9a4e5d7380d4596432e889d1295e5ec28ea5419617"
   }
  }
 },
 "nbformat": 4,
 "nbformat_minor": 2
}
