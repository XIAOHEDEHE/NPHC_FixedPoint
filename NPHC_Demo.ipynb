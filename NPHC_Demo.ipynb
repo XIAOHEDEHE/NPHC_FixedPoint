{
 "cells": [
  {
   "attachments": {},
   "cell_type": "markdown",
   "metadata": {},
   "source": [
    "# A demo of the NPHC\n",
    "NPHC is a good method to solve the polynomial eqations problems, in this file, we will provide a small example to show how NPHC works."
   ]
  },
  {
   "cell_type": "code",
   "execution_count": null,
   "metadata": {},
   "outputs": [],
   "source": [
    "import numpy as np\n",
    "import matplotlib.pyplot as plt\n",
    "import quick_hull"
   ]
  },
  {
   "attachments": {},
   "cell_type": "markdown",
   "metadata": {},
   "source": [
    "## Get start\n",
    "First, we can provide an easy-solve polynomial equations:\n",
    "$${\\bf{F}}(x) = \\left\\{ \\begin{array}{l}\n",
    "1 + a{x_1} + b{x_1}^2{x_2}^2\\\\\n",
    "1 + c{x_1} + d{x_2} + e{x_1}^2{x_2}^2\n",
    "\\end{array} \\right.$$\n",
    "\n",
    "For two equation in this system have an associated polytope $S_m$, which is the exponent vectors. So we get two $S_i$"
   ]
  },
  {
   "cell_type": "code",
   "execution_count": null,
   "metadata": {},
   "outputs": [],
   "source": [
    "s_1 = np.array([[0,0],[1,0],[2,2]])\n",
    "s_2 = np.array([[0,0],[1,0],[0,1],[1,2]])"
   ]
  },
  {
   "attachments": {},
   "cell_type": "markdown",
   "metadata": {},
   "source": [
    "Then we will compute the Minkovski sum of these two polytope. First we define a function to compute Minkowski sum for us and produce the sum of above two sets."
   ]
  },
  {
   "cell_type": "code",
   "execution_count": null,
   "metadata": {},
   "outputs": [],
   "source": [
    "# A function to calculate Minkowski sum between two arrays.\n",
    "# How to use:\n",
    "# There are two input of this function: sum1, sum2, and column. sum1,2 should both be the numpy\n",
    "# array, and we will output another numpy array as the result. Column is the col number of the matrix.\n",
    "def mink_sum(sum1, sum2, column):\n",
    "    result = np.array([[]])\n",
    "    for i in sum1:\n",
    "        for j in sum2:\n",
    "            result = np.append(result,i+j)\n",
    "    result = result.reshape([-1,column]).astype(int)\n",
    "    result = np.unique(result, axis=0) #Abandon duplicate elements\n",
    "    return result"
   ]
  },
  {
   "cell_type": "code",
   "execution_count": null,
   "metadata": {},
   "outputs": [],
   "source": [
    "s_3 = mink_sum(s_1,s_2,2)\n",
    "print(s_3)"
   ]
  },
  {
   "attachments": {},
   "cell_type": "markdown",
   "metadata": {},
   "source": [
    "After above operation, we get the Minkowski sum of two polytopes, then we will compute the convex hull of there sum. "
   ]
  },
  {
   "cell_type": "code",
   "execution_count": null,
   "metadata": {},
   "outputs": [],
   "source": [
    "quick_hull.printHull(s_3)"
   ]
  },
  {
   "attachments": {},
   "cell_type": "markdown",
   "metadata": {},
   "source": [
    "# Start system\n",
    "\n",
    "In this section, we will come up with a start system to compute the result of the target system."
   ]
  },
  {
   "cell_type": "code",
   "execution_count": null,
   "metadata": {},
   "outputs": [],
   "source": [
    "coefficient1 = np.array([[0,0]])\n",
    "coefficient2 = np.array([[1,1]])\n",
    "w1 = np.dot(coefficient1,s_1.T)\n",
    "w2 = np.dot(coefficient2,s_2.T)\n",
    "print(w1,w2)"
   ]
  },
  {
   "attachments": {},
   "cell_type": "markdown",
   "metadata": {},
   "source": [
    "When we get $w$, we can append it to the polytope, then we lift the dimension of the polytope from 2D to 3D, and also we will compute the sum of the higher dimension polytope's convex hull."
   ]
  },
  {
   "cell_type": "code",
   "execution_count": null,
   "metadata": {},
   "outputs": [],
   "source": [
    "s_1_3D = np.insert(s_1,2,w1.reshape(3),axis=1)\n",
    "s_2_3D = np.insert(s_2,2,w2.reshape(4),axis=1)\n",
    "print(s_1_3D)\n",
    "print(s_2_3D)"
   ]
  }
 ],
 "metadata": {
  "kernelspec": {
   "display_name": "py39",
   "language": "python",
   "name": "python3"
  },
  "language_info": {
   "codemirror_mode": {
    "name": "ipython",
    "version": 3
   },
   "file_extension": ".py",
   "mimetype": "text/x-python",
   "name": "python",
   "nbconvert_exporter": "python",
   "pygments_lexer": "ipython3",
   "version": "3.9.0"
  },
  "orig_nbformat": 4,
  "vscode": {
   "interpreter": {
    "hash": "348dc4a427285fc17cb1ee9a4e5d7380d4596432e889d1295e5ec28ea5419617"
   }
  }
 },
 "nbformat": 4,
 "nbformat_minor": 2
}
