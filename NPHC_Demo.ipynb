{
 "cells": [
  {
   "attachments": {},
   "cell_type": "markdown",
   "metadata": {},
   "source": [
    "# A demo of the NPHC\n",
    "NPHC is a good method to solve the polynomial eqations problems, in this file, we will provide a small example to show how NPHC works."
   ]
  },
  {
   "cell_type": "code",
   "execution_count": 1,
   "metadata": {},
   "outputs": [],
   "source": [
    "import numpy as np"
   ]
  },
  {
   "attachments": {},
   "cell_type": "markdown",
   "metadata": {},
   "source": [
    "## Get start\n",
    "First, we can provide an easy-solve polynomial equations:\n",
    "$${\\bf{F}}(x) = \\left\\{ \\begin{array}{l}\n",
    "1 + 3{x_1} + 2{x_2} + 2{x_1}^2{x_2}^2\\\\\n",
    "1 + 2{x_1} + 3{x_1}^2{x_2}^2\n",
    "\\end{array} \\right.$$\n",
    "\n",
    "This equations has "
   ]
  }
 ],
 "metadata": {
  "kernelspec": {
   "display_name": "py39",
   "language": "python",
   "name": "python3"
  },
  "language_info": {
   "codemirror_mode": {
    "name": "ipython",
    "version": 3
   },
   "file_extension": ".py",
   "mimetype": "text/x-python",
   "name": "python",
   "nbconvert_exporter": "python",
   "pygments_lexer": "ipython3",
   "version": "3.9.0"
  },
  "orig_nbformat": 4,
  "vscode": {
   "interpreter": {
    "hash": "348dc4a427285fc17cb1ee9a4e5d7380d4596432e889d1295e5ec28ea5419617"
   }
  }
 },
 "nbformat": 4,
 "nbformat_minor": 2
}
