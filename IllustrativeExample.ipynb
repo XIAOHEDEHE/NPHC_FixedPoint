{
 "cells": [
  {
   "cell_type": "code",
   "execution_count": 1,
   "metadata": {},
   "outputs": [],
   "source": [
    "# Import packages\n",
    "import numpy as np\n",
    "import matplotlib.pyplot as plt"
   ]
  },
  {
   "attachments": {},
   "cell_type": "markdown",
   "metadata": {},
   "source": [
    "- Root Count\n",
    "\n",
    "Consider the example system in two unknowns and with 4 solutions."
   ]
  },
  {
   "cell_type": "code",
   "execution_count": 2,
   "metadata": {},
   "outputs": [],
   "source": [
    "s_1 = np.array([[0,0],[1,0],[2,2]])\n",
    "s_2 = np.array([[0,0],[1,0],[0,1],[1,2]])"
   ]
  },
  {
   "cell_type": "code",
   "execution_count": 60,
   "metadata": {},
   "outputs": [
    {
     "data": {
      "text/plain": [
       "array([[0, 0],\n",
       "       [1, 0],\n",
       "       [0, 1],\n",
       "       [1, 2],\n",
       "       [1, 0],\n",
       "       [2, 0],\n",
       "       [1, 1],\n",
       "       [2, 2],\n",
       "       [2, 2],\n",
       "       [3, 2],\n",
       "       [2, 3],\n",
       "       [3, 4]])"
      ]
     },
     "execution_count": 60,
     "metadata": {},
     "output_type": "execute_result"
    }
   ],
   "source": [
    "# A function to calculate Minkowski sum between two arrays.\n",
    "# How to use:\n",
    "# There are two input of this function: sum1, sum2. They should both be the numpy\n",
    "# array, and we will output another numpy array as the result.\n",
    "def mink_sum(sum1, sum2):\n",
    "    result = np.array([[]])\n",
    "    for i in sum1:\n",
    "        for j in sum2:\n",
    "            result = np.append(result,i+j)\n",
    "    result = result.reshape([-1,2]).astype(int)\n",
    "    return result\n",
    "mink_sum(s_1,s_2)\n"
   ]
  }
 ],
 "metadata": {
  "kernelspec": {
   "display_name": "py39",
   "language": "python",
   "name": "python3"
  },
  "language_info": {
   "codemirror_mode": {
    "name": "ipython",
    "version": 3
   },
   "file_extension": ".py",
   "mimetype": "text/x-python",
   "name": "python",
   "nbconvert_exporter": "python",
   "pygments_lexer": "ipython3",
   "version": "3.9.0"
  },
  "orig_nbformat": 4,
  "vscode": {
   "interpreter": {
    "hash": "348dc4a427285fc17cb1ee9a4e5d7380d4596432e889d1295e5ec28ea5419617"
   }
  }
 },
 "nbformat": 4,
 "nbformat_minor": 2
}
